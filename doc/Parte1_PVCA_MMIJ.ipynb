{
 "cells": [
  {
   "cell_type": "markdown",
   "metadata": {},
   "source": [
    "<font color='palevioletred'>\n",
    "    <font size=6.5>\n",
    "\n",
    "**Temas Selectos de Física Computacional III**  \n",
    "        \n",
    "**Parte I**  \n",
    "        <font size=5.5>\n",
    "            \n",
    "Carlos Alberto Pozoz Villegas   \n",
    "Jessica Martínez Marcelo  "
   ]
  },
  {
   "cell_type": "markdown",
   "metadata": {},
   "source": [
    "# **PyTorch**\n",
    "_________\n",
    "_________"
   ]
  },
  {
   "cell_type": "markdown",
   "metadata": {},
   "source": [
    "### 1. Instalación de paqueterías necesarias"
   ]
  },
  {
   "cell_type": "markdown",
   "metadata": {},
   "source": [
    "#### Prerrequisitos"
   ]
  },
  {
   "cell_type": "markdown",
   "metadata": {},
   "source": [
    "1.- PyTorch es compatible con distribuciones de Linux que usan glibc> = v2.17, que incluyen lo siguiente:\n",
    "- Arch Linux, minimum version 2012-07-15\n",
    "- CentOS, minimum version 7.3-1611\n",
    "- Debian, minimum version 8.0\n",
    "- Fedora, minimum version 24\n",
    "- Mint, minimum version 14\n",
    "- OpenSUSE, minimum version 42.1\n",
    "- PCLinuxOS, minimum version 2014.7\n",
    "- Slackware, minimum version 14.2\n",
    "- *Ubuntu*, minimum version 13.04\n"
   ]
  },
  {
   "cell_type": "markdown",
   "metadata": {},
   "source": [
    "2.- Python:\n",
    "- Python 3.6 o superior (se recomienda que utilice Python 3.6, 3.7 o 3.8)  \n",
    "`$ sudo apt install python`"
   ]
  },
  {
   "cell_type": "markdown",
   "metadata": {},
   "source": [
    "3.- Anaconda:\n",
    "\n",
    "Para instalar los binarios de PyTorch, deberá utilizar uno de los dos administradores de paquetes admitidos: [Anaconda](https://www.anaconda.com/products/individual#linux) o [pip](https://pypi.org/project/pip/) . Anaconda es el administrador de paquetes recomendado, ya que le proporcionará todas las dependencias de PyTorch en una instalación de espacio aislado, incluido Python.  \n",
    "(La versión de Anaconda puede ser diferente dependiento de cuando se realice la instalación)  \n",
    "`$ curl -O https://repo.anaconda.com/miniconda/Miniconda3-latest-Linux-x86_64.sh\n",
    "sh Miniconda3-latest-Linux-x86_64.sh`\n",
    "\n"
   ]
  },
  {
   "cell_type": "markdown",
   "metadata": {},
   "source": [
    "4.- CUDA\n",
    "\n",
    "Comando para instalar:\n",
    "\n",
    "`$ sudo apt install nvidia-cuda-toolkit`  \n",
    "Para ver la versión:\n",
    "\n",
    "`$ nvcc --version`"
   ]
  },
  {
   "cell_type": "markdown",
   "metadata": {},
   "source": [
    "4.- Pytorch:\n",
    "\n",
    "Para la versión más estable de PyTorch y el sistema operativo Linux, el comando recomendado para la instalación es: (depende de la versión de CUDA)  \n",
    "\n",
    "`$ conda install -c pytorch torchvision cudatoolkit=10.1 pytorch` (primer comando)\n",
    "\n",
    "O bien:\n",
    "\n",
    "`$ pip install torch==1.7.1+cpu torchvision==0.8.2+cpu torchaudio==0.7.2 -f https://download.pytorch.org/whl/torch_stable.html` (segundo comando)\n",
    "\n",
    "*Nota*: El segundo comando para instalar PyTorch es el recomendado en la documentación oficial, pero generó un problema: `Torch not compiled with CUDA enabled`, cuando se ejecutaban pruebas implementando redes neuronales. Este problema se solucionó ejecutando el primer comando."
   ]
  },
  {
   "cell_type": "markdown",
   "metadata": {},
   "source": [
    "___________"
   ]
  },
  {
   "cell_type": "markdown",
   "metadata": {},
   "source": [
    "### 2. Documentación oficial"
   ]
  },
  {
   "cell_type": "markdown",
   "metadata": {},
   "source": [
    "En el siguiente link se proporciona la documentación oficial de PyTorch: [PyTorch documentation](https://pytorch.org/docs/stable/index.html#pytorch-documentation)"
   ]
  },
  {
   "cell_type": "markdown",
   "metadata": {},
   "source": [
    "En la página principal, la documentación está dividida en las siguientes secciones:\n",
    "- Notas\n",
    "- Enlaces de idioma\n",
    "- API de Python\n",
    "- Bibliotecas\n",
    "- Comunidad\n",
    "- Índices y tablas"
   ]
  },
  {
   "cell_type": "markdown",
   "metadata": {},
   "source": [
    "De la sección de *Notas*, es recomendable visitar: [Preguntas frecuentes](https://pytorch.org/docs/stable/notes/faq.html), pues puede ser de utilidad para no cometer errores con PyTorch que son muy frecuentes, o encontrar su solución."
   ]
  },
  {
   "cell_type": "markdown",
   "metadata": {},
   "source": [
    "Las secciones *API de Python* y *Bibliotecas* son de las secciones más útiles de la documentación, pues en ella se enlistan diferentes paquetes de PyTorch y funciones, tales como [torch](https://pytorch.org/docs/stable/torch.html), además se enlistan las funciones que proporciona junto con una explicación breve de lo que hace cada una."
   ]
  },
  {
   "cell_type": "markdown",
   "metadata": {},
   "source": [
    "Además de la documentación oficial el siguiente link de [tutoriales](https://pytorch.org/tutorials/) proporciona herramientas útiles para aprender el funcionamiento del framework."
   ]
  },
  {
   "cell_type": "markdown",
   "metadata": {},
   "source": [
    "________"
   ]
  },
  {
   "cell_type": "markdown",
   "metadata": {},
   "source": [
    "### 3. Ventajas y desventajas de PyTorch"
   ]
  },
  {
   "cell_type": "markdown",
   "metadata": {},
   "source": [
    "**Ventajas de PyTorch:**\n",
    "- Está basado en Python (Python es el lenguaje de programación más simple)  \n",
    "- Entrenamiento de Deep Learning más rápido (más parámetros, tiempo de entrenamiento más rápido)  \n",
    "- Enfoque dinámico a través de GPU (se puede ver cada nivel de cálculo)  \n",
    "- Aumento de la productividad del desarrollador (es fácil de usar y fácil de usar)  \n",
    "- Más fácil de aprender (la documentación de PyTorch es útil para principiantes)  \n",
    "- Una comunidad de desarrolladores enfocados (grupo pequeño que resuelve grandes problemas)  \n",
    "- Transparente para el usuario (las salidas de Dynamic Graph se ven más rápido)  \n",
    "- Fácil de depurar (utiliza PyCharm para el modo definir por ejecución durante el tiempo de ejecución)  \n",
    "- Paralelismo de datos (permite que \" torch.nn.DataParallel\" envuelva cualquier módulo)  \n",
    "\n",
    "**Desventajas de PyTorch:**\n",
    "- Carece de modelo en producción (Aunque cambiará en el futuro)  \n",
    "- Es nuevo y aún no es ampliamente conocido (tiene menos clientes / usuarios en este momento)  \n",
    "- Carece de interfaces para la monitorización y visualización como Tensorboard (como solución alternativa, puede conectarse externamente a Tensorboard)    \n",
    "\n",
    "\n",
    "*Fuente:*  \n",
    "Robin Familara, [Differentiating PyTorch from all other Deep Learning frameworks](https://medium.com/udacity-pytorch-challengers/differentiating-pytorch-from-all-other-deep-learning-frameworks-86a7f89754b5), 2019\n"
   ]
  },
  {
   "cell_type": "markdown",
   "metadata": {},
   "source": [
    "_____________________________"
   ]
  },
  {
   "cell_type": "markdown",
   "metadata": {},
   "source": [
    "### 4. Particularidades del framework"
   ]
  },
  {
   "cell_type": "markdown",
   "metadata": {},
   "source": [
    "- Normalmente PyTorch es usado tanto para sustituir numpy y procesar los cálculos en GPU como para la investigación y desarrollo en el campo del machine learning, centrado principalmente en el desarrollo de redes neuronales.  \n",
    "- PyTorch trabaja con grafos dinámicos en vez de estáticos. Esto significa que en tiempo de ejecución se pueden ir modificando las funciones y el cálculo del gradiente variará con ellas.  \n",
    "- PyTorch dispone de soporte para su ejecución en tarjetas gráficas (GPU), utiliza internamente [CUDA](https://es.wikipedia.org/wiki/CUDA), una API que conecta la CPU con la GPU que ha sido desarrollado por NVIDIA.\n",
    "- Sus elementos fundamentales son los tensores, que se pueden equiparar con vectores de una o varias dimensiones.  \n",
    "\n",
    "\n",
    "**Recomendado para:**  \n",
    "\n",
    "Aplicaciones que implementan cosas como *visión artificial* y *procesamiento de lenguajes naturales*.  \n",
    "\n",
    "*Fuentes:*  \n",
    "[Pytorch](https://en.wikipedia.org/wiki/PyTorch),Wikipedia, the free encyclopedia  \n",
    "[¿Qué es PyTorch?](https://cleverpy.com/que-es-pytorch-y-como-se-instala/), Jesús Vieco, Cleverpy.com\n"
   ]
  },
  {
   "cell_type": "markdown",
   "metadata": {},
   "source": [
    "_______________"
   ]
  },
  {
   "cell_type": "markdown",
   "metadata": {},
   "source": [
    "### 5. Red neuronal usando el conjunto CIFAR-10"
   ]
  },
  {
   "cell_type": "markdown",
   "metadata": {},
   "source": [
    "Esta red neuronal está basada en el tutorial: [Entrenamiento de un clasificador](https://pytorch.org/tutorials/beginner/blitz/cifar10_tutorial.html)"
   ]
  },
  {
   "cell_type": "markdown",
   "metadata": {},
   "source": [
    "**Acerca de los datos...**  \n",
    "\n",
    "Generalmente, cuando tiene que lidiar con datos de imagen, texto, audio o video, puede usar paquetes de Python estándar que cargan datos en una matriz numerosa. Luego puede convertir esta matriz en un archivo `torch.*Tensor.`  \n",
    "\n",
    "- Para las imágenes, los paquetes como Pillow, OpenCV son útiles\n",
    "- Para audio, paquetes como scipy y librosa\n",
    "- Para el texto, la carga sin procesar basada en Python o Cython, o NLTK y SpaCy son útiles\n",
    "\n",
    "Específicamente para la visión, hay un paquete llamado `torchvision`, que tiene cargadores de datos para conjuntos de datos comunes como *Imagenet, CIFAR10, MNIST*, etc. y transformadores de datos para imágenes, a saber, `torchvision.datasets` y `torch.utils.data.DataLoader`.\n",
    "\n"
   ]
  },
  {
   "cell_type": "markdown",
   "metadata": {},
   "source": [
    "#### Entrenamiento de un clasificador de imágenes"
   ]
  },
  {
   "cell_type": "markdown",
   "metadata": {},
   "source": [
    "1.1 Importación de las librerías y paquetes necesarios:"
   ]
  },
  {
   "cell_type": "code",
   "execution_count": 4,
   "metadata": {},
   "outputs": [],
   "source": [
    "import torch\n",
    "import torchvision\n",
    "import torchvision.transforms as transforms\n",
    "\n",
    "import matplotlib.pyplot as plt\n",
    "import numpy as np\n",
    "\n",
    "import torch.nn as nn\n",
    "import torch.nn.functional as F\n"
   ]
  },
  {
   "cell_type": "markdown",
   "metadata": {},
   "source": [
    "1.2 Carga y normalización de CIFAR-10  \n",
    "\n",
    "La salida de los conjuntos de datos de `torchvision` son imágenes PILImage imágenes de rango [0, 1]. Se transforman en Tensores de rango normalizado: [-1, 1]"
   ]
  },
  {
   "cell_type": "code",
   "execution_count": 5,
   "metadata": {},
   "outputs": [
    {
     "name": "stdout",
     "output_type": "stream",
     "text": [
      "Downloading https://www.cs.toronto.edu/~kriz/cifar-10-python.tar.gz to ./data/cifar-10-python.tar.gz\n"
     ]
    },
    {
     "data": {
      "application/vnd.jupyter.widget-view+json": {
       "model_id": "6afd4cc9ec37409e9c188de0e0ddc775",
       "version_major": 2,
       "version_minor": 0
      },
      "text/plain": [
       "0it [00:00, ?it/s]"
      ]
     },
     "metadata": {},
     "output_type": "display_data"
    },
    {
     "name": "stdout",
     "output_type": "stream",
     "text": [
      "Extracting ./data/cifar-10-python.tar.gz to ./data\n",
      "Files already downloaded and verified\n"
     ]
    }
   ],
   "source": [
    "transform = transforms.Compose(\n",
    "    [transforms.ToTensor(),\n",
    "     transforms.Normalize((0.5, 0.5, 0.5), (0.5, 0.5, 0.5))])\n",
    "\n",
    "trainset = torchvision.datasets.CIFAR10(root='./data', train=True,\n",
    "                                        download=True, transform=transform)\n",
    "trainloader = torch.utils.data.DataLoader(trainset, batch_size=4,\n",
    "                                          shuffle=True, num_workers=2)\n",
    "\n",
    "testset = torchvision.datasets.CIFAR10(root='./data', train=False,\n",
    "                                       download=True, transform=transform)\n",
    "testloader = torch.utils.data.DataLoader(testset, batch_size=4,\n",
    "                                         shuffle=False, num_workers=2)\n",
    "# El conjunto de datos contiene:\n",
    "classes = ('plane', 'car', 'bird', 'cat',\n",
    "           'deer', 'dog', 'frog', 'horse', 'ship', 'truck')"
   ]
  },
  {
   "cell_type": "markdown",
   "metadata": {},
   "source": [
    "1.3 Visualización de algunas imágenes de entrenamiento"
   ]
  },
  {
   "cell_type": "code",
   "execution_count": 6,
   "metadata": {},
   "outputs": [
    {
     "data": {
      "image/png": "[encoded data removed]",
      "text/plain": [
       "<Figure size 432x288 with 1 Axes>"
      ]
     },
     "metadata": {
      "needs_background": "light"
     },
     "output_type": "display_data"
    },
    {
     "name": "stdout",
     "output_type": "stream",
     "text": [
      " frog  frog  bird  deer\n"
     ]
    }
   ],
   "source": [
    "# Las librerías que se utilizan en esta parte de código:\n",
    "# import matplotlib.pyplot as plt\n",
    "# import numpy as np \n",
    "\n",
    "def imshow(img):\n",
    "    # Función para mostrar imágenes\n",
    "    \n",
    "    img = img / 2 + 0.5     # unnormalize\n",
    "    npimg = img.numpy()\n",
    "    plt.imshow(np.transpose(npimg, (1, 2, 0)))\n",
    "    plt.show()\n",
    "\n",
    "\n",
    "# Obtención de imágenes random del conjunto data train\n",
    "dataiter = iter(trainloader)\n",
    "images, labels = dataiter.next()\n",
    "\n",
    "# Muestra las imágenes\n",
    "imshow(torchvision.utils.make_grid(images))\n",
    "# Muestra las etiquetas\n",
    "print(' '.join('%5s' % classes[labels[j]] for j in range(4)))"
   ]
  },
  {
   "cell_type": "markdown",
   "metadata": {},
   "source": [
    "2. Definición de una red neuronal convoluicional"
   ]
  },
  {
   "cell_type": "code",
   "execution_count": 17,
   "metadata": {},
   "outputs": [],
   "source": [
    "# Las librerías que se utilizan en esta parte de código:\n",
    "# import torch.nn as nn\n",
    "# import torch.nn.functional as F\n",
    "\n",
    "class Net(nn.Module):\n",
    "    def __init__(self):\n",
    "        super(Net, self).__init__()\n",
    "        \n",
    "        # Kernel:\n",
    "        self.conv1 = nn.Conv2d(3, 6, 5)  # 3 canales en la imagen de entrada, 5 canales producidos por la convolución 2D\n",
    "        self.pool = nn.MaxPool2d(2, 2)  # Tamaño del kernel, maximo (2,2)\n",
    "        self.conv2 = nn.Conv2d(6, 16, 5)\n",
    "        self.fc1 = nn.Linear(16 * 5 * 5, 120)  # Operación lineal: y = W*x + b (5x5) de la dimensión de la imagen\n",
    "        self.fc2 = nn.Linear(120, 84)\n",
    "        self.fc3 = nn.Linear(84, 10)\n",
    "\n",
    "    def forward(self, x):\n",
    "        # El tamalo del kernel es un cuadrado, se tiene solo un parámetro: x\n",
    "        x = self.pool(F.relu(self.conv1(x)))\n",
    "        x = self.pool(F.relu(self.conv2(x)))\n",
    "        x = x.view(-1, 16 * 5 * 5)\n",
    "        x = F.relu(self.fc1(x))\n",
    "        x = F.relu(self.fc2(x))\n",
    "        x = self.fc3(x)\n",
    "        return x\n",
    "\n",
    "\n",
    "net = Net()"
   ]
  },
  {
   "cell_type": "markdown",
   "metadata": {},
   "source": [
    "3. Definición de la función pérdida y un optimizador  \n",
    "\n",
    "Se utiliza la función de pérdida: Classification Cross-Entropy loss y SGD with momentum para el optimizador."
   ]
  },
  {
   "cell_type": "code",
   "execution_count": 8,
   "metadata": {},
   "outputs": [],
   "source": [
    "import torch.optim as optim\n",
    "\n",
    "criterion = nn.CrossEntropyLoss()\n",
    "optimizer = optim.SGD(net.parameters(), lr=0.001, momentum=0.9)"
   ]
  },
  {
   "cell_type": "markdown",
   "metadata": {},
   "source": [
    "4. Capacitación de la red"
   ]
  },
  {
   "cell_type": "code",
   "execution_count": 9,
   "metadata": {},
   "outputs": [
    {
     "name": "stdout",
     "output_type": "stream",
     "text": [
      "[1,  2000] loss: 2.197\n",
      "[1,  4000] loss: 1.830\n",
      "[1,  6000] loss: 1.667\n",
      "[1,  8000] loss: 1.559\n",
      "[1, 10000] loss: 1.503\n",
      "[1, 12000] loss: 1.428\n",
      "[2,  2000] loss: 1.356\n",
      "[2,  4000] loss: 1.342\n",
      "[2,  6000] loss: 1.313\n",
      "[2,  8000] loss: 1.311\n",
      "[2, 10000] loss: 1.275\n",
      "[2, 12000] loss: 1.244\n",
      "Finished Training\n"
     ]
    }
   ],
   "source": [
    "for epoch in range(2):  # Ciclo sobre el conjunto de datos\n",
    "\n",
    "    running_loss = 0.0\n",
    "    for i, data in enumerate(trainloader, 0):\n",
    "        # Obtiene las entradas; data es una lista: [entrada, etiqueta]\n",
    "        inputs, labels = data\n",
    "\n",
    "        # zero the parameter gradients\n",
    "        optimizer.zero_grad()\n",
    "\n",
    "        # forward + backward + optimize (funciones)\n",
    "        outputs = net(inputs)\n",
    "        loss = criterion(outputs, labels)\n",
    "        loss.backward()\n",
    "        optimizer.step()\n",
    "\n",
    "        # Muestra las estadísticas\n",
    "        running_loss += loss.item()\n",
    "        if i % 2000 == 1999:    # muestra cada 2000 mini-batches\n",
    "            print('[%d, %5d] loss: %.3f' %\n",
    "                  (epoch + 1, i + 1, running_loss / 2000))\n",
    "            running_loss = 0.0\n",
    "\n",
    "print('Finished Training')"
   ]
  },
  {
   "cell_type": "markdown",
   "metadata": {},
   "source": [
    "4.1 Guardar el modelo entrenado"
   ]
  },
  {
   "cell_type": "code",
   "execution_count": 10,
   "metadata": {},
   "outputs": [],
   "source": [
    "PATH = './cifar_net.pth'\n",
    "torch.save(net.state_dict(), PATH)"
   ]
  },
  {
   "cell_type": "markdown",
   "metadata": {},
   "source": [
    "5.1 Prueba de la red con los datos train  \n",
    "\n",
    "Se comprueba si la red aprendió algo. Se predice la etiqueta de clase que genera la red neuronal y compara con la respuesta, si coincide con esta, se agrega la muestra a la lista de predicciones correctas."
   ]
  },
  {
   "cell_type": "code",
   "execution_count": 11,
   "metadata": {},
   "outputs": [
    {
     "data": {
      "image/png": "[encoded data removed]",
      "text/plain": [
       "<Figure size 432x288 with 1 Axes>"
      ]
     },
     "metadata": {
      "needs_background": "light"
     },
     "output_type": "display_data"
    },
    {
     "name": "stdout",
     "output_type": "stream",
     "text": [
      "GroundTruth:    cat  ship  ship plane\n"
     ]
    }
   ],
   "source": [
    "# Muestra una imagen del conjunto de prueba\n",
    "dataiter = iter(testloader)\n",
    "images, labels = dataiter.next()\n",
    "\n",
    "# Muestra imagen\n",
    "imshow(torchvision.utils.make_grid(images))\n",
    "print('GroundTruth: ', ' '.join('%5s' % classes[labels[j]] for j in range(4)))"
   ]
  },
  {
   "cell_type": "markdown",
   "metadata": {},
   "source": [
    "Cargar el modelo guardado"
   ]
  },
  {
   "cell_type": "code",
   "execution_count": 12,
   "metadata": {},
   "outputs": [
    {
     "data": {
      "text/plain": [
       "<All keys matched successfully>"
      ]
     },
     "execution_count": 12,
     "metadata": {},
     "output_type": "execute_result"
    }
   ],
   "source": [
    "net = Net()\n",
    "net.load_state_dict(torch.load(PATH))"
   ]
  },
  {
   "cell_type": "markdown",
   "metadata": {},
   "source": [
    "¿Qué cree la red neuronal que son las imágenes anteriores?"
   ]
  },
  {
   "cell_type": "code",
   "execution_count": 13,
   "metadata": {},
   "outputs": [],
   "source": [
    "outputs = net(images)"
   ]
  },
  {
   "cell_type": "code",
   "execution_count": 14,
   "metadata": {},
   "outputs": [
    {
     "name": "stdout",
     "output_type": "stream",
     "text": [
      "Predicted:    cat   car  ship plane\n"
     ]
    }
   ],
   "source": [
    "_, predicted = torch.max(outputs, 1)\n",
    "\n",
    "print('Predicted: ', ' '.join('%5s' % classes[predicted[j]]\n",
    "                              for j in range(4)))"
   ]
  },
  {
   "cell_type": "markdown",
   "metadata": {},
   "source": [
    "Jajaja se equivocó en: car"
   ]
  },
  {
   "cell_type": "markdown",
   "metadata": {},
   "source": [
    "5.2 Funcionamiento de la red en todo el conjunto de datos"
   ]
  },
  {
   "cell_type": "code",
   "execution_count": 15,
   "metadata": {},
   "outputs": [
    {
     "name": "stdout",
     "output_type": "stream",
     "text": [
      "Accuracy of the network on the 10000 test images: 56 %\n"
     ]
    }
   ],
   "source": [
    "correct = 0\n",
    "total = 0\n",
    "with torch.no_grad():\n",
    "    for data in testloader:\n",
    "        images, labels = data\n",
    "        outputs = net(images)\n",
    "        _, predicted = torch.max(outputs.data, 1)\n",
    "        total += labels.size(0)\n",
    "        correct += (predicted == labels).sum().item()\n",
    "\n",
    "print('Accuracy of the network on the 10000 test images: %d %%' % (\n",
    "    100 * correct / total))"
   ]
  },
  {
   "cell_type": "markdown",
   "metadata": {},
   "source": [
    "El azar es un 10% de precisión (elegir al azar una clase de 10 clases). Muestra una precisión de 56%, así, se muestra que la red aprendió algo."
   ]
  },
  {
   "cell_type": "markdown",
   "metadata": {},
   "source": [
    "5.3 ¿Cuál es la presición por clase?"
   ]
  },
  {
   "cell_type": "code",
   "execution_count": 16,
   "metadata": {},
   "outputs": [
    {
     "name": "stdout",
     "output_type": "stream",
     "text": [
      "Accuracy of plane : 56 %\n",
      "Accuracy of   car : 78 %\n",
      "Accuracy of  bird : 43 %\n",
      "Accuracy of   cat : 47 %\n",
      "Accuracy of  deer : 39 %\n",
      "Accuracy of   dog : 53 %\n",
      "Accuracy of  frog : 67 %\n",
      "Accuracy of horse : 47 %\n",
      "Accuracy of  ship : 67 %\n",
      "Accuracy of truck : 59 %\n"
     ]
    }
   ],
   "source": [
    "class_correct = list(0. for i in range(10))\n",
    "class_total = list(0. for i in range(10))\n",
    "with torch.no_grad():\n",
    "    for data in testloader:\n",
    "        images, labels = data\n",
    "        outputs = net(images)\n",
    "        _, predicted = torch.max(outputs, 1)\n",
    "        c = (predicted == labels).squeeze()\n",
    "        for i in range(4):\n",
    "            label = labels[i]\n",
    "            class_correct[label] += c[i].item()\n",
    "            class_total[label] += 1\n",
    "\n",
    "\n",
    "for i in range(10):\n",
    "    print('Accuracy of %5s : %2d %%' % (\n",
    "        classes[i], 100 * class_correct[i] / class_total[i]))"
   ]
  },
  {
   "cell_type": "code",
   "execution_count": null,
   "metadata": {},
   "outputs": [],
   "source": []
  }
 ],
 "metadata": {
  "kernelspec": {
   "display_name": "Python 3",
   "language": "python",
   "name": "python3"
  },
  "language_info": {
   "codemirror_mode": {
    "name": "ipython",
    "version": 3
   },
   "file_extension": ".py",
   "mimetype": "text/x-python",
   "name": "python",
   "nbconvert_exporter": "python",
   "pygments_lexer": "ipython3",
   "version": "3.7.9"
  }
 },
 "nbformat": 4,
 "nbformat_minor": 4
}
