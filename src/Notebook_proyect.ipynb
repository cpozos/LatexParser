{
 "cells": [
  {
   "cell_type": "markdown",
   "metadata": {},
   "source": [
    "### Requisitos del proyecto\n",
    "Debe contener lo siguiente:\n",
    "\n",
    "1. Explicación del problema a resolver (cuáles son los inputs y porqué, cual es la salida y porqué, cómo se obtuvieron y de dónde)\n",
    "2. Análisis de los datos (histogramas, visualización de una muestra tanto la entrada como la salida, normalización encaso de ser necesaria)\n",
    "3. Separación de los datos (seleccionar un porcentaje para cada conjunto)\n",
    "4. Definición, Entrenamiento y Evaluación de la red neuronal\n",
    "5. Inferencia (usando los datos de prueba)\n",
    "6. Comentario: explicar porqué se obtuvieron esos resultados"
   ]
  },
  {
   "cell_type": "markdown",
   "metadata": {},
   "source": [
    "# LaTeX Parser"
   ]
  },
  {
   "cell_type": "markdown",
   "metadata": {},
   "source": [
    "### I. Explicación del problema\n",
    "_____\n",
    "_____"
   ]
  },
  {
   "cell_type": "markdown",
   "metadata": {},
   "source": [
    "El problema a resolver es la traducción de imágenes con ecuaciones matemáticas a una secuencia de símbolos que $\\LaTeX$ utiliza para generar ecuaciones matemáticas:"
   ]
  },
  {
   "cell_type": "markdown",
   "metadata": {},
   "source": [
    "![traduccion](images/diag2.png)"
   ]
  },
  {
   "cell_type": "markdown",
   "metadata": {},
   "source": [
    "Para ello se empleará el modelo *Sequence-to-Sequence* (S2S), este modelo es un caso especial de una familia general de modelos llamados: *encoder-decoder models*, que son una composición de dos modelos: *encoder* y *decoder*, que suelen ser entrenados en conjunto."
   ]
  },
  {
   "cell_type": "markdown",
   "metadata": {},
   "source": [
    "![encoder-decoder](images/encoder-decoder.png)"
   ]
  },
  {
   "cell_type": "markdown",
   "metadata": {},
   "source": [
    "El modelo encoder es usualmente una red neuronal convolucional (CNN) que transforma imágenes en un grupo de mapas de características, o una representación $(\\Phi)$, que es generalmente un vector. El decoder por otro lado, es usualmente una red enuronal recurrente (RNN) que tiene como meta tomar la representación ($\\Phi$) de la entrada y producir la salida deseada. A partir de lo anterior, se puede definir a los modelos S2S como modelos encoder-decoder, en los que el encoder y el decoder son modelos de secuencia y las entradas y salidas son secuencias, posiblemente de diferentes longitudes."
   ]
  },
  {
   "cell_type": "markdown",
   "metadata": {},
   "source": [
    "#### I.I Entrada y salida (Contexto a la solución del problema)   \n",
    "___"
   ]
  },
  {
   "cell_type": "markdown",
   "metadata": {},
   "source": [
    "\n",
    "\n",
    "Si se define a una imagen de una ecuación matemática generada con LaTeX como: $(x,y)$, en donde $x \\in \\mathbb{R}^{H \\times W}$ es una imagen en escala de grises de altura $H$ y ancho $W$, $y = [y_1,...y_T]$ es una secuancia de $T$ símbolos que definen la fórmula matemática de la imagen. La meta es obtener la salida $y$ a partir de la entrada $x$, es decir, encontrar una función $f: f(x) \\longrightarrow y$.  \n",
    "\n",
    "Dado un conjunto de imágenes $(x_i,y_i)\\,i \\in \\{1,...,N\\}$, se puede usar entrenamiento supervisado para construir una función de predicción de secuencia $f'$ que aproxime a $f$, $f': f'(x) \\longrightarrow y'$, para predecir una secuencia de $LaTeX$ $y'$ que reconstruya la imagen $x$. La evaluación se puede realizar mediante la comparación de $y'$ y $y$, y entre la imagen $x'$ creada a partir de $y'$, con la original $x$."
   ]
  },
  {
   "cell_type": "markdown",
   "metadata": {},
   "source": [
    "#### I.II Obtención de los datos\n",
    "___"
   ]
  },
  {
   "cell_type": "markdown",
   "metadata": {},
   "source": [
    "Los datos se obtuvieron de la página [LSTMVis](http://lstm.seas.harvard.edu/), una herramienta de análisis visual para redes neuronales."
   ]
  },
  {
   "cell_type": "markdown",
   "metadata": {},
   "source": [
    "Para descargar el conjunto de datos:  \n",
    "- Estar en la carpeta de images: `cd src/data/sets/raw/images`\n",
    "- Descargar el dataset: `sudo tar -zxvf formula_images_processed.tar.gz`\n",
    "- Comando sugerido para copiar los datos .png una vez descomprimidos a la carpeta de images:  \n",
    "`find /src/data/sets/raw/images/formula_images_processed/ -name \"*.png\" -exec cp -uf \"{}\" /src/data/sets/raw/images/ \\;`\n"
   ]
  },
  {
   "cell_type": "markdown",
   "metadata": {},
   "source": [
    "**Referencias:**  \n",
    "[1] Delip Rao & Brian McMahan, *Natural Language Processing with PyTorch*, (2019) Chapter 8.  \n",
    "[2] [Translating Math Formula Images to LaTeX Sequences Using Deep Neural Networks with Sequence-level Training](https://arxiv.org/pdf/1908.11415.pdf)  \n",
    "[3] [Image-to-Markup Generation with Coarse-to-Fine Attention](http://lstm.seas.harvard.edu/latex/)"
   ]
  },
  {
   "cell_type": "markdown",
   "metadata": {},
   "source": [
    "### II. & III. Análisis de los datos y Separación de datos\n",
    "___\n",
    "___"
   ]
  },
  {
   "cell_type": "markdown",
   "metadata": {},
   "source": [
    "Importación de librerías"
   ]
  },
  {
   "cell_type": "code",
   "execution_count": 1,
   "metadata": {},
   "outputs": [],
   "source": [
    "# Dependencies \n",
    "import random\n",
    "import statistics\n",
    "from functools import partial\n",
    "import time\n",
    "import tqdm"
   ]
  },
  {
   "cell_type": "code",
   "execution_count": 2,
   "metadata": {},
   "outputs": [],
   "source": [
    "# TORCH\n",
    "from torch.utils.data import DataLoader\n",
    "import torch.optim as optim\n",
    "import torch.nn as nn\n",
    "from torch.nn.utils import clip_grad_norm_\n",
    "from torch.optim.lr_scheduler import ReduceLROnPlateau"
   ]
  },
  {
   "cell_type": "code",
   "execution_count": 3,
   "metadata": {},
   "outputs": [],
   "source": [
    "# PROJECT\n",
    "from architecture import *\n",
    "\n",
    "from data import DataBuilder\n",
    "\n",
    "from utilities.dataloaders import *\n",
    "from utilities.training import *\n",
    "from utilities.latex_gen import *\n",
    "\n",
    "from utilities.tensor import *\n",
    "from utilities.persistance import *\n",
    "from utilities.logger import *"
   ]
  },
  {
   "cell_type": "code",
   "execution_count": 4,
   "metadata": {},
   "outputs": [],
   "source": [
    "# Hardware\n",
    "device = \"cuda:0\" if torch.cuda.is_available() else \"cpu\"\n",
    "num_workers = 1 #2"
   ]
  },
  {
   "cell_type": "markdown",
   "metadata": {},
   "source": [
    "División de los datos en conjuntos train, validation y test / hiperparámetros de entrenamiento:"
   ]
  },
  {
   "cell_type": "code",
   "execution_count": 5,
   "metadata": {},
   "outputs": [],
   "source": [
    "# ********************************************************************\n",
    "# **********************  Hyper parameters  **************************\n",
    "# ********************************************************************\n",
    "    \n",
    "# data\n",
    "num_data_train = 100000  # max\n",
    "num_data_val = 20000  # max\n",
    "num_data_test = 2000  # max\n",
    "batch_size = 10 #50\n",
    "    \n",
    "# training\n",
    "epochs = 5  # default 10\n",
    "learning_rate = 3e-4 #default 3e-4\n",
    "drop_out = 0.2 # default 0.2\n",
    "clip = 2 #default 2"
   ]
  },
  {
   "cell_type": "markdown",
   "metadata": {},
   "source": [
    "Obtención de los datos:  \n",
    "(Para ver los códigos de la obtención de datos: `/src/data/`)"
   ]
  },
  {
   "cell_type": "code",
   "execution_count": 6,
   "metadata": {},
   "outputs": [
    {
     "name": "stdout",
     "output_type": "stream",
     "text": [
      "++++++++ Información sobre el número de datos: ++++++++\n",
      "Número de datos train: 75275\n",
      "Número de datos validation: 8370\n",
      "Número de datos test: 2000\n"
     ]
    }
   ],
   "source": [
    "# ********************************************************************\n",
    "# **********************  Get data  **********************************\n",
    "# ********************************************************************\n",
    "data_builder = DataBuilder()\n",
    "\n",
    "vocabulary = data_builder.get_vocabulary()\n",
    "\n",
    "force = True\n",
    "train_dataset = data_builder.get_dataset_for('train', max_count=num_data_train, force=force)\n",
    "valid_dataset = data_builder.get_dataset_for('validate', max_count=num_data_val, force=force)\n",
    "test_dataset = data_builder.get_dataset_for('test', max_count=num_data_test, force=force)\n",
    "\n",
    "num_data_train = len(train_dataset)\n",
    "num_data_val = len(valid_dataset)\n",
    "num_data_test = len(test_dataset)\n",
    "\n",
    "print(\"+\"*8+\" Información sobre el número de datos: \"+\"+\"*8)\n",
    "print(\"Número de datos train:\", num_data_train)\n",
    "print(\"Número de datos validation:\", num_data_val)\n",
    "print(\"Número de datos test:\", num_data_test)\n"
   ]
  },
  {
   "cell_type": "markdown",
   "metadata": {},
   "source": [
    "Visualización de dos datos de entrada:"
   ]
  },
  {
   "cell_type": "code",
   "execution_count": 7,
   "metadata": {},
   "outputs": [
    {
     "data": {
      "image/png": "[encoded data removed]",
      "text/plain": [
       "<Figure size 432x288 with 1 Axes>"
      ]
     },
     "metadata": {
      "needs_background": "light"
     },
     "output_type": "display_data"
    },
    {
     "data": {
      "image/png": "[encoded data removed]",
      "text/plain": [
       "<Figure size 432x288 with 1 Axes>"
      ]
     },
     "metadata": {
      "needs_background": "light"
     },
     "output_type": "display_data"
    }
   ],
   "source": [
    "show_tensor_as_image(train_dataset[6][0])\n",
    "show_tensor_as_image(train_dataset[50][0])"
   ]
  },
  {
   "cell_type": "markdown",
   "metadata": {},
   "source": [
    "Visualización de dos datos de salida: (correspondiente a los de entrada)"
   ]
  },
  {
   "cell_type": "code",
   "execution_count": 8,
   "metadata": {},
   "outputs": [
    {
     "name": "stdout",
     "output_type": "stream",
     "text": [
      "\\partial _ { \\mu } ( F ^ { \\mu \\nu } - e j ^ { \\mu } x ^ { \\nu } ) = 0 .\n",
      "\\theta \\epsilon ^ { i } = \\zeta ^ { i } \\, ; \\qquad \\theta \\zeta ^ { i } = \\epsilon ^ { i } \\, ; \\qquad \\theta \\eta ^ { i } = - \\eta ^ { i } \\, .\n"
     ]
    }
   ],
   "source": [
    "print(train_dataset[6][1])\n",
    "print(train_dataset[50][1])"
   ]
  },
  {
   "cell_type": "markdown",
   "metadata": {},
   "source": [
    "### IV. Definición, Entrenamiento y Evaluación  \n",
    "___\n",
    "___"
   ]
  },
  {
   "cell_type": "markdown",
   "metadata": {},
   "source": [
    "#### IV.I Arquitectura de la red"
   ]
  },
  {
   "cell_type": "code",
   "execution_count": 9,
   "metadata": {},
   "outputs": [],
   "source": [
    "# ********************************************************************\n",
    "# **********************  Architecture  ******************************\n",
    "# ********************************************************************\n",
    "\n",
    "model = Model(\n",
    "out_size=len(vocabulary),\n",
    "enc_out_dim=512,\n",
    "emb_size=80,\n",
    "dec_rnn_h=512,\n",
    "dropout=drop_out\n",
    ")"
   ]
  },
  {
   "cell_type": "markdown",
   "metadata": {},
   "source": [
    "Para ver el código del modelo completo: `/src/architecture/model.py` "
   ]
  },
  {
   "cell_type": "markdown",
   "metadata": {},
   "source": [
    "#### IV.II Entrenamiento"
   ]
  },
  {
   "cell_type": "code",
   "execution_count": 10,
   "metadata": {},
   "outputs": [],
   "source": [
    "# ********************************************************************\n",
    "# **********************  Training  **********************************\n",
    "# ********************************************************************\n",
    "\n",
    "# Hyper parameters for training \n",
    "init_epoch = 1\n",
    "\n",
    "# For epsilon calculation\n",
    "decay_k = 1 #default\n",
    "sample_method = \"inv_sigmoid\" #default [\"exp\", \"inv_sigmoid\", \"teacher_forcing\")\n",
    "\n",
    "# Dataloaders\n",
    "train_loader = DataLoader (\n",
    "    train_dataset,\n",
    "    batch_size=batch_size,\n",
    "    #TODO how collate works?\n",
    "    # https://discuss.pytorch.org/t/how-to-create-a-dataloader-with-variable-size-input/8278\n",
    "    collate_fn=partial(collate_fn, vocabulary.token_id_dic),\n",
    "    pin_memory=False, # It must be False (no GPU): https://discuss.pytorch.org/t/when-to-set-pin-memory-to-true/19723\n",
    "    #shuffle=True,\n",
    "    num_workers=num_workers\n",
    ")\n",
    "\n",
    "valid_loader = DataLoader(\n",
    "    valid_dataset,\n",
    "    batch_size=batch_size,\n",
    "    collate_fn=partial(collate_fn, vocabulary.token_id_dic)\n",
    "    )\n"
   ]
  },
  {
   "cell_type": "code",
   "execution_count": 11,
   "metadata": {},
   "outputs": [],
   "source": [
    "# Optimizer and scheduler\n",
    "optimizer = optim.Adam(model.parameters(), lr = learning_rate)\n",
    "lr_scheduler = ReduceLROnPlateau(\n",
    "    optimizer,\n",
    "    \"min\",\n",
    "    factor=0.5, # float default - Learning rate decay rate\n",
    "    patience=3, # int default - Learning rate decay patience\n",
    "    verbose=True,\n",
    "    min_lr=3e-5) # default 3e-5"
   ]
  },
  {
   "cell_type": "code",
   "execution_count": 12,
   "metadata": {},
   "outputs": [],
   "source": [
    "# Variables to save results\n",
    "training_losses = []\n",
    "valid_losses = []\n",
    "total_step = 0\n",
    "best_valid_loss = 1e18"
   ]
  },
  {
   "cell_type": "code",
   "execution_count": null,
   "metadata": {},
   "outputs": [
    {
     "name": "stdout",
     "output_type": "stream",
     "text": [
      "+++++++++++++++ Training initialized +++++++++++++++\n",
      "[Train] Epoch 1/5 Step 10/7528 Loss 5.413578\n",
      "[Train] Epoch 1/5 Step 20/7528 Loss 4.893776\n",
      "[Train] Epoch 1/5 Step 30/7528 Loss 4.630878\n",
      "[Train] Epoch 1/5 Step 40/7528 Loss 4.477638\n",
      "[Train] Epoch 1/5 Step 50/7528 Loss 4.405375\n",
      "[Train] Epoch 1/5 Step 60/7528 Loss 4.358254\n",
      "[Train] Epoch 1/5 Step 70/7528 Loss 4.294891\n",
      "[Train] Epoch 1/5 Step 80/7528 Loss 4.264323\n",
      "[Train] Epoch 1/5 Step 90/7528 Loss 4.227040\n",
      "[Train] Epoch 1/5 Step 100/7528 Loss 4.207898\n",
      "[Train] Epoch 1/5 Step 110/7528 Loss 4.186956\n",
      "[Train] Epoch 1/5 Step 120/7528 Loss 4.165333\n",
      "[Train] Epoch 1/5 Step 130/7528 Loss 4.128827\n",
      "[Train] Epoch 1/5 Step 140/7528 Loss 4.100134\n",
      "[Train] Epoch 1/5 Step 150/7528 Loss 4.066745\n",
      "[Train] Epoch 1/5 Step 160/7528 Loss 4.042028\n",
      "[Train] Epoch 1/5 Step 170/7528 Loss 3.995395\n",
      "[Train] Epoch 1/5 Step 180/7528 Loss 3.973333\n",
      "[Train] Epoch 1/5 Step 190/7528 Loss 3.940873\n",
      "[Train] Epoch 1/5 Step 200/7528 Loss 3.904271\n",
      "[Train] Epoch 1/5 Step 210/7528 Loss 3.866371\n",
      "[Train] Epoch 1/5 Step 220/7528 Loss 3.867933\n",
      "[Train] Epoch 1/5 Step 230/7528 Loss 3.844539\n",
      "[Train] Epoch 1/5 Step 240/7528 Loss 3.821771\n",
      "[Train] Epoch 1/5 Step 250/7528 Loss 3.796729\n",
      "[Train] Epoch 1/5 Step 260/7528 Loss 3.783910\n",
      "[Train] Epoch 1/5 Step 270/7528 Loss 3.763359\n",
      "[Train] Epoch 1/5 Step 280/7528 Loss 3.745626\n",
      "[Train] Epoch 1/5 Step 290/7528 Loss 3.734407\n",
      "[Train] Epoch 1/5 Step 300/7528 Loss 3.717425\n",
      "[Train] Epoch 1/5 Step 310/7528 Loss 3.702013\n",
      "[Train] Epoch 1/5 Step 320/7528 Loss 3.692156\n",
      "[Train] Epoch 1/5 Step 330/7528 Loss 3.677265\n",
      "[Train] Epoch 1/5 Step 340/7528 Loss 3.667343\n",
      "[Train] Epoch 1/5 Step 350/7528 Loss 3.654177\n",
      "[Train] Epoch 1/5 Step 360/7528 Loss 3.635399\n",
      "[Train] Epoch 1/5 Step 370/7528 Loss 3.620895\n",
      "[Train] Epoch 1/5 Step 380/7528 Loss 3.614026\n",
      "[Train] Epoch 1/5 Step 390/7528 Loss 3.600147\n",
      "[Train] Epoch 1/5 Step 400/7528 Loss 3.590620\n",
      "[Train] Epoch 1/5 Step 410/7528 Loss 3.584567\n",
      "[Train] Epoch 1/5 Step 420/7528 Loss 3.566528\n",
      "[Train] Epoch 1/5 Step 430/7528 Loss 3.560480\n",
      "[Train] Epoch 1/5 Step 440/7528 Loss 3.547340\n",
      "[Train] Epoch 1/5 Step 450/7528 Loss 3.538650\n",
      "[Train] Epoch 1/5 Step 460/7528 Loss 3.527594\n",
      "[Train] Epoch 1/5 Step 470/7528 Loss 3.516494\n",
      "[Train] Epoch 1/5 Step 480/7528 Loss 3.509621\n",
      "[Train] Epoch 1/5 Step 490/7528 Loss 3.496893\n",
      "[Train] Epoch 1/5 Step 500/7528 Loss 3.492815\n",
      "[Train] Epoch 1/5 Step 510/7528 Loss 3.483365\n",
      "[Train] Epoch 1/5 Step 520/7528 Loss 3.474664\n",
      "[Train] Epoch 1/5 Step 530/7528 Loss 3.469170\n",
      "[Train] Epoch 1/5 Step 540/7528 Loss 3.462211\n",
      "[Train] Epoch 1/5 Step 550/7528 Loss 3.454306\n",
      "[Train] Epoch 1/5 Step 560/7528 Loss 3.447697\n",
      "[Train] Epoch 1/5 Step 570/7528 Loss 3.441618\n",
      "[Train] Epoch 1/5 Step 580/7528 Loss 3.433714\n",
      "[Train] Epoch 1/5 Step 590/7528 Loss 3.422448\n",
      "[Train] Epoch 1/5 Step 600/7528 Loss 3.415104\n",
      "[Train] Epoch 1/5 Step 610/7528 Loss 3.407710\n",
      "[Train] Epoch 1/5 Step 620/7528 Loss 3.396961\n",
      "[Train] Epoch 1/5 Step 630/7528 Loss 3.386897\n",
      "[Train] Epoch 1/5 Step 640/7528 Loss 3.382490\n",
      "[Train] Epoch 1/5 Step 650/7528 Loss 3.375878\n",
      "[Train] Epoch 1/5 Step 660/7528 Loss 3.367295\n",
      "[Train] Epoch 1/5 Step 670/7528 Loss 3.363836\n",
      "[Train] Epoch 1/5 Step 680/7528 Loss 3.354599\n",
      "[Train] Epoch 1/5 Step 690/7528 Loss 3.352085\n",
      "[Train] Epoch 1/5 Step 700/7528 Loss 3.346755\n",
      "[Train] Epoch 1/5 Step 710/7528 Loss 3.338324\n",
      "[Train] Epoch 1/5 Step 720/7528 Loss 3.330806\n",
      "[Train] Epoch 1/5 Step 730/7528 Loss 3.323892\n",
      "[Train] Epoch 1/5 Step 740/7528 Loss 3.313468\n",
      "[Train] Epoch 1/5 Step 750/7528 Loss 3.307838\n",
      "[Train] Epoch 1/5 Step 760/7528 Loss 3.302667\n",
      "[Train] Epoch 1/5 Step 770/7528 Loss 3.297717\n",
      "[Train] Epoch 1/5 Step 780/7528 Loss 3.292883\n",
      "[Train] Epoch 1/5 Step 790/7528 Loss 3.287495\n",
      "[Train] Epoch 1/5 Step 800/7528 Loss 3.281205\n",
      "[Train] Epoch 1/5 Step 810/7528 Loss 3.276006\n",
      "[Train] Epoch 1/5 Step 820/7528 Loss 3.270364\n",
      "[Train] Epoch 1/5 Step 830/7528 Loss 3.263493\n",
      "[Train] Epoch 1/5 Step 840/7528 Loss 3.260061\n",
      "[Train] Epoch 1/5 Step 850/7528 Loss 3.254215\n",
      "[Train] Epoch 1/5 Step 860/7528 Loss 3.249360\n",
      "[Train] Epoch 1/5 Step 870/7528 Loss 3.245206\n",
      "[Train] Epoch 1/5 Step 880/7528 Loss 3.243731\n",
      "[Train] Epoch 1/5 Step 890/7528 Loss 3.239254\n",
      "[Train] Epoch 1/5 Step 900/7528 Loss 3.232131\n",
      "[Train] Epoch 1/5 Step 910/7528 Loss 3.226526\n",
      "[Train] Epoch 1/5 Step 920/7528 Loss 3.223795\n",
      "[Train] Epoch 1/5 Step 930/7528 Loss 3.219375\n",
      "[Train] Epoch 1/5 Step 940/7528 Loss 3.216234\n",
      "[Train] Epoch 1/5 Step 950/7528 Loss 3.210845\n",
      "[Train] Epoch 1/5 Step 960/7528 Loss 3.208140\n",
      "[Train] Epoch 1/5 Step 970/7528 Loss 3.203823\n",
      "[Train] Epoch 1/5 Step 980/7528 Loss 3.198763\n",
      "[Train] Epoch 1/5 Step 990/7528 Loss 3.196663\n",
      "[Train] Epoch 1/5 Step 1000/7528 Loss 3.194060\n",
      "[Train] Epoch 1/5 Step 1010/7528 Loss 3.193236\n",
      "[Train] Epoch 1/5 Step 1020/7528 Loss 3.190441\n",
      "[Train] Epoch 1/5 Step 1030/7528 Loss 3.188927\n",
      "[Train] Epoch 1/5 Step 1040/7528 Loss 3.183182\n",
      "[Train] Epoch 1/5 Step 1050/7528 Loss 3.179898\n",
      "[Train] Epoch 1/5 Step 1060/7528 Loss 3.175127\n",
      "[Train] Epoch 1/5 Step 1070/7528 Loss 3.171385\n",
      "[Train] Epoch 1/5 Step 1080/7528 Loss 3.168703\n",
      "[Train] Epoch 1/5 Step 1090/7528 Loss 3.166938\n",
      "[Train] Epoch 1/5 Step 1100/7528 Loss 3.164494\n",
      "[Train] Epoch 1/5 Step 1110/7528 Loss 3.160029\n",
      "[Train] Epoch 1/5 Step 1120/7528 Loss 3.156082\n",
      "[Train] Epoch 1/5 Step 1130/7528 Loss 3.151651\n",
      "[Train] Epoch 1/5 Step 1140/7528 Loss 3.149133\n",
      "[Train] Epoch 1/5 Step 1150/7528 Loss 3.147805\n",
      "[Train] Epoch 1/5 Step 1160/7528 Loss 3.146838\n",
      "[Train] Epoch 1/5 Step 1170/7528 Loss 3.142911\n",
      "[Train] Epoch 1/5 Step 1180/7528 Loss 3.139202\n",
      "[Train] Epoch 1/5 Step 1190/7528 Loss 3.137849\n",
      "[Train] Epoch 1/5 Step 1200/7528 Loss 3.134260\n",
      "[Train] Epoch 1/5 Step 1210/7528 Loss 3.129435\n",
      "[Train] Epoch 1/5 Step 1220/7528 Loss 3.125788\n",
      "[Train] Epoch 1/5 Step 1230/7528 Loss 3.124130\n",
      "[Train] Epoch 1/5 Step 1240/7528 Loss 3.121622\n",
      "[Train] Epoch 1/5 Step 1250/7528 Loss 3.118327\n",
      "[Train] Epoch 1/5 Step 1260/7528 Loss 3.114017\n",
      "[Train] Epoch 1/5 Step 1270/7528 Loss 3.112450\n",
      "[Train] Epoch 1/5 Step 1280/7528 Loss 3.108535\n",
      "[Train] Epoch 1/5 Step 1290/7528 Loss 3.103945\n",
      "[Train] Epoch 1/5 Step 1300/7528 Loss 3.101853\n",
      "[Train] Epoch 1/5 Step 1310/7528 Loss 3.099933\n",
      "[Train] Epoch 1/5 Step 1320/7528 Loss 3.098006\n",
      "[Train] Epoch 1/5 Step 1330/7528 Loss 3.095141\n",
      "[Train] Epoch 1/5 Step 1340/7528 Loss 3.093162\n",
      "[Train] Epoch 1/5 Step 1350/7528 Loss 3.090704\n",
      "[Train] Epoch 1/5 Step 1360/7528 Loss 3.088422\n",
      "[Train] Epoch 1/5 Step 1370/7528 Loss 3.084520\n",
      "[Train] Epoch 1/5 Step 1380/7528 Loss 3.081898\n",
      "[Train] Epoch 1/5 Step 1390/7528 Loss 3.078430\n",
      "[Train] Epoch 1/5 Step 1400/7528 Loss 3.076711\n",
      "[Train] Epoch 1/5 Step 1410/7528 Loss 3.073319\n",
      "[Train] Epoch 1/5 Step 1420/7528 Loss 3.070015\n",
      "[Train] Epoch 1/5 Step 1430/7528 Loss 3.066172\n",
      "[Train] Epoch 1/5 Step 1440/7528 Loss 3.062735\n",
      "[Train] Epoch 1/5 Step 1450/7528 Loss 3.059044\n",
      "[Train] Epoch 1/5 Step 1460/7528 Loss 3.056877\n",
      "[Train] Epoch 1/5 Step 1470/7528 Loss 3.054134\n",
      "[Train] Epoch 1/5 Step 1480/7528 Loss 3.051289\n",
      "[Train] Epoch 1/5 Step 1490/7528 Loss 3.049373\n",
      "[Train] Epoch 1/5 Step 1500/7528 Loss 3.045444\n",
      "[Train] Epoch 1/5 Step 1510/7528 Loss 3.043230\n",
      "[Train] Epoch 1/5 Step 1520/7528 Loss 3.040717\n",
      "[Train] Epoch 1/5 Step 1530/7528 Loss 3.038367\n",
      "[Train] Epoch 1/5 Step 1540/7528 Loss 3.037648\n",
      "[Train] Epoch 1/5 Step 1550/7528 Loss 3.035446\n",
      "[Train] Epoch 1/5 Step 1560/7528 Loss 3.032440\n",
      "[Train] Epoch 1/5 Step 1570/7528 Loss 3.032069\n",
      "[Train] Epoch 1/5 Step 1580/7528 Loss 3.029448\n",
      "[Train] Epoch 1/5 Step 1590/7528 Loss 3.028491\n",
      "[Train] Epoch 1/5 Step 1600/7528 Loss 3.028217\n",
      "[Train] Epoch 1/5 Step 1610/7528 Loss 3.027407\n",
      "[Train] Epoch 1/5 Step 1620/7528 Loss 3.025882\n",
      "[Train] Epoch 1/5 Step 1630/7528 Loss 3.024320\n",
      "[Train] Epoch 1/5 Step 1640/7528 Loss 3.022371\n",
      "[Train] Epoch 1/5 Step 1650/7528 Loss 3.020031\n",
      "[Train] Epoch 1/5 Step 1660/7528 Loss 3.017016\n",
      "[Train] Epoch 1/5 Step 1670/7528 Loss 3.015009\n",
      "[Train] Epoch 1/5 Step 1680/7528 Loss 3.011650\n",
      "[Train] Epoch 1/5 Step 1690/7528 Loss 3.009951\n",
      "[Train] Epoch 1/5 Step 1700/7528 Loss 3.006841\n",
      "[Train] Epoch 1/5 Step 1710/7528 Loss 3.004347\n",
      "[Train] Epoch 1/5 Step 1720/7528 Loss 3.002299\n",
      "[Train] Epoch 1/5 Step 1730/7528 Loss 3.001508\n",
      "[Train] Epoch 1/5 Step 1740/7528 Loss 2.999486\n",
      "[Train] Epoch 1/5 Step 1750/7528 Loss 2.997012\n",
      "[Train] Epoch 1/5 Step 1760/7528 Loss 2.995625\n"
     ]
    },
    {
     "name": "stdout",
     "output_type": "stream",
     "text": [
      "[Train] Epoch 1/5 Step 1770/7528 Loss 2.993692\n",
      "[Train] Epoch 1/5 Step 1780/7528 Loss 2.992780\n",
      "[Train] Epoch 1/5 Step 1790/7528 Loss 2.991254\n",
      "[Train] Epoch 1/5 Step 1800/7528 Loss 2.988991\n",
      "[Train] Epoch 1/5 Step 1810/7528 Loss 2.987697\n",
      "[Train] Epoch 1/5 Step 1820/7528 Loss 2.986625\n",
      "[Train] Epoch 1/5 Step 1830/7528 Loss 2.984322\n",
      "[Train] Epoch 1/5 Step 1840/7528 Loss 2.982423\n",
      "[Train] Epoch 1/5 Step 1850/7528 Loss 2.980699\n",
      "[Train] Epoch 1/5 Step 1860/7528 Loss 2.978636\n",
      "[Train] Epoch 1/5 Step 1870/7528 Loss 2.976855\n",
      "[Train] Epoch 1/5 Step 1880/7528 Loss 2.974466\n",
      "[Train] Epoch 1/5 Step 1890/7528 Loss 2.972974\n",
      "[Train] Epoch 1/5 Step 1900/7528 Loss 2.971567\n",
      "[Train] Epoch 1/5 Step 1910/7528 Loss 2.970009\n",
      "[Train] Epoch 1/5 Step 1920/7528 Loss 2.969070\n",
      "[Train] Epoch 1/5 Step 1930/7528 Loss 2.967395\n",
      "[Train] Epoch 1/5 Step 1940/7528 Loss 2.965414\n",
      "[Train] Epoch 1/5 Step 1950/7528 Loss 2.964785\n",
      "[Train] Epoch 1/5 Step 1960/7528 Loss 2.962955\n",
      "[Train] Epoch 1/5 Step 1970/7528 Loss 2.960827\n",
      "[Train] Epoch 1/5 Step 1980/7528 Loss 2.960685\n",
      "[Train] Epoch 1/5 Step 1990/7528 Loss 2.959699\n",
      "[Train] Epoch 1/5 Step 2000/7528 Loss 2.958562\n",
      "[Train] Epoch 1/5 Step 2010/7528 Loss 2.956065\n",
      "[Train] Epoch 1/5 Step 2020/7528 Loss 2.954514\n",
      "[Train] Epoch 1/5 Step 2030/7528 Loss 2.953440\n",
      "[Train] Epoch 1/5 Step 2040/7528 Loss 2.951965\n",
      "[Train] Epoch 1/5 Step 2050/7528 Loss 2.950345\n",
      "[Train] Epoch 1/5 Step 2060/7528 Loss 2.948172\n",
      "[Train] Epoch 1/5 Step 2070/7528 Loss 2.945849\n",
      "[Train] Epoch 1/5 Step 2080/7528 Loss 2.944051\n",
      "[Train] Epoch 1/5 Step 2090/7528 Loss 2.943250\n",
      "[Train] Epoch 1/5 Step 2100/7528 Loss 2.942348\n",
      "[Train] Epoch 1/5 Step 2110/7528 Loss 2.940906\n",
      "[Train] Epoch 1/5 Step 2120/7528 Loss 2.939928\n",
      "[Train] Epoch 1/5 Step 2130/7528 Loss 2.939101\n",
      "[Train] Epoch 1/5 Step 2140/7528 Loss 2.937480\n",
      "[Train] Epoch 1/5 Step 2150/7528 Loss 2.936694\n",
      "[Train] Epoch 1/5 Step 2160/7528 Loss 2.935902\n",
      "[Train] Epoch 1/5 Step 2170/7528 Loss 2.935037\n",
      "[Train] Epoch 1/5 Step 2180/7528 Loss 2.933321\n",
      "[Train] Epoch 1/5 Step 2190/7528 Loss 2.934357\n",
      "[Train] Epoch 1/5 Step 2200/7528 Loss 2.931802\n",
      "[Train] Epoch 1/5 Step 2210/7528 Loss 2.931478\n",
      "[Train] Epoch 1/5 Step 2220/7528 Loss 2.930802\n",
      "[Train] Epoch 1/5 Step 2230/7528 Loss 2.929623\n",
      "[Train] Epoch 1/5 Step 2240/7528 Loss 2.927866\n",
      "[Train] Epoch 1/5 Step 2250/7528 Loss 2.925967\n",
      "[Train] Epoch 1/5 Step 2260/7528 Loss 2.923993\n",
      "[Train] Epoch 1/5 Step 2270/7528 Loss 2.922903\n",
      "[Train] Epoch 1/5 Step 2280/7528 Loss 2.922178\n",
      "[Train] Epoch 1/5 Step 2290/7528 Loss 2.923031\n",
      "[Train] Epoch 1/5 Step 2300/7528 Loss 2.922129\n",
      "[Train] Epoch 1/5 Step 2310/7528 Loss 2.922770\n",
      "[Train] Epoch 1/5 Step 2320/7528 Loss 2.921631\n",
      "[Train] Epoch 1/5 Step 2330/7528 Loss 2.921211\n",
      "[Train] Epoch 1/5 Step 2340/7528 Loss 2.920351\n",
      "[Train] Epoch 1/5 Step 2350/7528 Loss 2.919236\n",
      "[Train] Epoch 1/5 Step 2360/7528 Loss 2.919164\n",
      "[Train] Epoch 1/5 Step 2370/7528 Loss 2.917098\n",
      "[Train] Epoch 1/5 Step 2380/7528 Loss 2.915792\n",
      "[Train] Epoch 1/5 Step 2390/7528 Loss 2.915938\n",
      "[Train] Epoch 1/5 Step 2400/7528 Loss 2.914443\n",
      "[Train] Epoch 1/5 Step 2410/7528 Loss 2.914207\n",
      "[Train] Epoch 1/5 Step 2420/7528 Loss 2.913642\n",
      "[Train] Epoch 1/5 Step 2430/7528 Loss 2.912766\n",
      "[Train] Epoch 1/5 Step 2440/7528 Loss 2.912434\n",
      "[Train] Epoch 1/5 Step 2450/7528 Loss 2.911362\n",
      "[Train] Epoch 1/5 Step 2460/7528 Loss 2.909868\n",
      "[Train] Epoch 1/5 Step 2470/7528 Loss 2.909484\n",
      "[Train] Epoch 1/5 Step 2480/7528 Loss 2.908402\n",
      "[Train] Epoch 1/5 Step 2490/7528 Loss 2.906962\n",
      "[Train] Epoch 1/5 Step 2500/7528 Loss 2.905699\n",
      "[Train] Epoch 1/5 Step 2510/7528 Loss 2.904593\n",
      "[Train] Epoch 1/5 Step 2520/7528 Loss 2.903444\n",
      "[Train] Epoch 1/5 Step 2530/7528 Loss 2.903128\n",
      "[Train] Epoch 1/5 Step 2540/7528 Loss 2.901082\n",
      "[Train] Epoch 1/5 Step 2550/7528 Loss 2.900588\n",
      "[Train] Epoch 1/5 Step 2560/7528 Loss 2.899349\n",
      "[Train] Epoch 1/5 Step 2570/7528 Loss 2.899218\n",
      "[Train] Epoch 1/5 Step 2580/7528 Loss 2.898116\n",
      "[Train] Epoch 1/5 Step 2590/7528 Loss 2.898055\n",
      "[Train] Epoch 1/5 Step 2600/7528 Loss 2.897217\n",
      "[Train] Epoch 1/5 Step 2610/7528 Loss 2.896488\n",
      "[Train] Epoch 1/5 Step 2620/7528 Loss 2.895935\n",
      "[Train] Epoch 1/5 Step 2630/7528 Loss 2.896029\n",
      "[Train] Epoch 1/5 Step 2640/7528 Loss 2.894816\n",
      "[Train] Epoch 1/5 Step 2650/7528 Loss 2.894407\n",
      "[Train] Epoch 1/5 Step 2660/7528 Loss 2.893570\n",
      "[Train] Epoch 1/5 Step 2670/7528 Loss 2.893995\n",
      "[Train] Epoch 1/5 Step 2680/7528 Loss 2.893842\n",
      "[Train] Epoch 1/5 Step 2690/7528 Loss 2.892091\n",
      "[Train] Epoch 1/5 Step 2700/7528 Loss 2.891142\n",
      "[Train] Epoch 1/5 Step 2710/7528 Loss 2.889390\n",
      "[Train] Epoch 1/5 Step 2720/7528 Loss 2.887369\n",
      "[Train] Epoch 1/5 Step 2730/7528 Loss 2.887562\n",
      "[Train] Epoch 1/5 Step 2740/7528 Loss 2.887430\n",
      "[Train] Epoch 1/5 Step 2750/7528 Loss 2.886566\n",
      "[Train] Epoch 1/5 Step 2760/7528 Loss 2.885858\n",
      "[Train] Epoch 1/5 Step 2770/7528 Loss 2.884899\n",
      "[Train] Epoch 1/5 Step 2780/7528 Loss 2.883441\n",
      "[Train] Epoch 1/5 Step 2790/7528 Loss 2.881339\n",
      "[Train] Epoch 1/5 Step 2800/7528 Loss 2.879565\n",
      "[Train] Epoch 1/5 Step 2810/7528 Loss 2.878437\n",
      "[Train] Epoch 1/5 Step 2820/7528 Loss 2.878145\n",
      "[Train] Epoch 1/5 Step 2830/7528 Loss 2.876784\n",
      "[Train] Epoch 1/5 Step 2840/7528 Loss 2.875466\n",
      "[Train] Epoch 1/5 Step 2850/7528 Loss 2.874382\n",
      "[Train] Epoch 1/5 Step 2860/7528 Loss 2.872463\n",
      "[Train] Epoch 1/5 Step 2870/7528 Loss 2.871436\n",
      "[Train] Epoch 1/5 Step 2880/7528 Loss 2.870019\n",
      "[Train] Epoch 1/5 Step 2890/7528 Loss 2.869072\n"
     ]
    }
   ],
   "source": [
    "# For profiling\n",
    "logger = TrainingLogger(print_freq=10)\n",
    "\n",
    "for epoch in range(epochs):\n",
    "    step_losses = []\n",
    "    step = 1\n",
    "\n",
    "    # Training\n",
    "    model.train()\n",
    "    loader_len = len(train_loader)\n",
    "    for imgs_batch, tgt4training_batch, tgt4loss_batch in train_loader:\n",
    "        optimizer.zero_grad()\n",
    "\n",
    "        # Epsilon\n",
    "        #epsilon = cal_epsilon(decay_k, total_step, sample_method)\n",
    "\n",
    "        # Prediction\n",
    "        logits = model(imgs_batch, tgt4training_batch, 1.)\n",
    "\n",
    "        # Compute Loss\n",
    "        step_loss = cal_loss(logits, tgt4loss_batch)\n",
    "            \n",
    "        # Add loss\n",
    "        step_losses.append(step_loss.item())\n",
    "\n",
    "        # Print results\n",
    "        logger.log_train_step(epoch+1, epochs, step, loader_len, statistics.mean(step_losses))\n",
    "\n",
    "        # Updates\n",
    "        step_loss.backward()\n",
    "        clip_grad_norm_(model.parameters(),clip)\n",
    "        optimizer.step()\n",
    "\n",
    "        step += 1\n",
    "        total_step += 1\n",
    "        \n",
    "    training_losses.append(statistics.mean(step_losses))"
   ]
  },
  {
   "cell_type": "markdown",
   "metadata": {},
   "source": [
    "#### IV.III Validation"
   ]
  },
  {
   "cell_type": "code",
   "execution_count": null,
   "metadata": {},
   "outputs": [],
   "source": [
    "    # Validation\n",
    "    model.eval()\n",
    "    step_losses = []\n",
    "    with torch.no_grad(): # This disable any gradient calculation (better performance)\n",
    "        for imgs_batch, tgt4training, tgt4loss_batch in valid_loader:\n",
    "\n",
    "            # Epsilon\n",
    "            #epsilon = cal_epsilon(decay_k, total_step, sample_method)\n",
    "\n",
    "            # Prediction\n",
    "            pred = model(imgs_batch, tgt4training, 1.)\n",
    "\n",
    "            # Compute loss\n",
    "            step_loss = cal_loss(pred, tgt4loss_batch)\n",
    "            step_losses.append(step_loss.item()) \n",
    "\n",
    "            # Print results\n",
    "            logger.log_val_step(epoch+1, epochs, statistics.mean(step_losses))\n",
    "   "
   ]
  },
  {
   "cell_type": "code",
   "execution_count": null,
   "metadata": {},
   "outputs": [],
   "source": [
    "    # Best validation loss\n",
    "    valid_loss = statistics.mean(step_losses)\n",
    "    if valid_loss < best_valid_loss: #best valid loss\n",
    "        best_valid_loss = valid_loss\n",
    "        save_model(\"best_ckpt\", model)\n",
    "\n",
    "    # Scheduler\n",
    "    lr_scheduler.step(valid_loss)\n",
    "    valid_losses.append(valid_loss)\n",
    "\n",
    "    # Save model checkpoint ckpt-e{epoch}\n",
    "    save_model(f\"ckpt-e{epoch+1}-vl{valid_loss:.4f}\", model)\n",
    "\n",
    "    # Print results\n",
    "    logger.log_epoch(epoch+1, epochs, statistics.mean(training_losses), statistics.mean(valid_losses))\n",
    "\n",
    "del logger\n",
    "\n",
    "# ********************************************************************\n",
    "# **********************  Testing  ***********************************\n",
    "# ********************************************************************\n",
    "\n",
    "    latex_generator = LatexGenerator(model, vocabulary)\n",
    "\n",
    "    # Loader\n",
    "    test_loader = DataLoader(\n",
    "        dataset=test_dataset,\n",
    "        collate_fn=partial(collate_fn_batch_size_one, vocabulary.token_id_dic)\n",
    "    )\n",
    "\n",
    "    # Save testing data\n",
    "    targets = []\n",
    "    predictions = []\n",
    "    for img, formula in test_loader:\n",
    "        try:\n",
    "            prediction = latex_generator(img)[0]\n",
    "            targets.append(formula)\n",
    "            predictions.append(prediction)\n",
    "        except RuntimeError:\n",
    "            break\n",
    "    \n",
    "    SAVE_TEST_DATA(F\"RES_{EPOCHS}_{BATCH_SIZE}_{INT(NUM_DATA_TRAIN/1000)}K_{INT(NUM_DATA_VAL/1000)}K_{INT(NUM_DATA_TEST/1000)}K\", TARGETS, PREDICTIONS)"
   ]
  },
  {
   "cell_type": "code",
   "execution_count": null,
   "metadata": {},
   "outputs": [],
   "source": [
    "print(test_dataset._pairs[3][1])"
   ]
  },
  {
   "cell_type": "code",
   "execution_count": null,
   "metadata": {},
   "outputs": [],
   "source": []
  }
 ],
 "metadata": {
  "kernelspec": {
   "display_name": "Python 3",
   "language": "python",
   "name": "python3"
  },
  "language_info": {
   "codemirror_mode": {
    "name": "ipython",
    "version": 3
   },
   "file_extension": ".py",
   "mimetype": "text/x-python",
   "name": "python",
   "nbconvert_exporter": "python",
   "pygments_lexer": "ipython3",
   "version": "3.7.9"
  }
 },
 "nbformat": 4,
 "nbformat_minor": 4
}
